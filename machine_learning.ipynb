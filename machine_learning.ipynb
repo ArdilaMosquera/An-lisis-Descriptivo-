{
 "cells": [
  {
   "cell_type": "markdown",
   "metadata": {},
   "source": [
    "About Dataset\n",
    "Data Description\n",
    "The actual concrete compressive strength (MPa) for a given mixture under a\n",
    "specific age (days) was determined from laboratory. Data is in raw form (not scaled). The data has 8 quantitative input variables, and 1 quantitative output variable, and 1030 instances (observations).\n",
    "\n",
    "Domain\n",
    "Cement manufacturing\n",
    "\n",
    "Context\n",
    "Concrete is the most important material in civil engineering. The concrete compressive strength is a highly nonlinear function of age and ingredients. These ingredients include cement, blast furnace slag, fly ash, water, superplasticizer, coarse aggregate, and fine aggregate.\n",
    "\n",
    "Attribute Information\n",
    "Cement : measured in kg in a m3 mixture\n",
    "Blast : measured in kg in a m3 mixture\n",
    "Fly ash : measured in kg in a m3 mixture\n",
    "Water : measured in kg in a m3 mixture\n",
    "Superplasticizer : measured in kg in a m3 mixture\n",
    "Coarse Aggregate : measured in kg in a m3 mixture\n",
    "Fine Aggregate : measured in kg in a m3 mixture\n",
    "Age : day (1~365)\n",
    "Concrete compressive strength measured in MPa"
   ]
  },
  {
   "cell_type": "code",
   "execution_count": 80,
   "metadata": {},
   "outputs": [
    {
     "data": {
      "text/html": [
       "<style>.container { width:98% !important; }</style>"
      ],
      "text/plain": [
       "<IPython.core.display.HTML object>"
      ]
     },
     "metadata": {},
     "output_type": "display_data"
    }
   ],
   "source": [
    "import pandas as pd # data processing, CSV file I/O (e.g. pd.read_csv)\n",
    "import numpy as np # linear algebra\n",
    "import seaborn as sns # data visualization library\n",
    "import matplotlib.pyplot as plt # data visualization library\n",
    "\n",
    "from sklearn.model_selection import train_test_split # function for splitting data to train and test sets\n",
    "from sklearn.metrics import r2_score # evaluation metric\n",
    "from sklearn.metrics import mean_absolute_error # evaluation metric\n",
    "from sklearn.metrics import mean_squared_error # evaluation metric\n",
    "from sklearn.linear_model import LinearRegression # Linear regression model\n",
    "from sklearn.model_selection import cross_val_score # cross validation\n",
    "from sklearn.model_selection import KFold # cross validation\n",
    "from sklearn.pipeline import Pipeline # cross validation\n",
    "from sklearn.ensemble import ExtraTreesRegressor # Extra Trees Regressor model\n",
    "from sklearn.ensemble import RandomForestRegressor # Random Forest Regressor model\n",
    "from sklearn.preprocessing import StandardScaler # Standard Scaler\n",
    "from sklearn.ensemble import GradientBoostingRegressor # Gradient Boosting Regressor model\n",
    "from sklearn.datasets import make_regression # Generate a random regression problem\n",
    "\n",
    "\n",
    "\n",
    "\n",
    "from IPython.display import display, HTML # Permite utilizar la función display() para mostrar dataframes en el notebook\n",
    "display(HTML(\"<style>.container { width:98% !important; }</style>\")) # Ajusta el ancho de la página"
   ]
  },
  {
   "cell_type": "markdown",
   "metadata": {},
   "source": [
    "Los modelos de regresión como RandomForestRegressor, GradientBoostingRegressor y ExtraTreesRegressor son técnicas de aprendizaje automático que combinan múltiples árboles de decisión para mejorar la precisión de las predicciones.\n",
    "\n",
    "1) RandomForestRegressor construye una colección de árboles de decisión entrenados en diferentes subconjuntos de datos, utilizando el promedio de sus predicciones para reducir la varianza y evitar el sobreajuste. \n",
    "SCIKIT-LEARN.ORG\n",
    "\n",
    "2) GradientBoostingRegressor se enfoca en corregir los errores de predicción de árboles anteriores, construyendo secuencialmente nuevos árboles que se centran en los residuos de los modelos previos. \n",
    "SCIKIT-LEARN.ORG\n",
    "\n",
    "3) ExtraTreesRegressor es similar al RandomForestRegressor, pero introduce mayor aleatoriedad al seleccionar puntos de división y características, lo que puede mejorar la precisión y reducir el tiempo de entrenamiento. \n",
    "MDPI.COM"
   ]
  },
  {
   "cell_type": "code",
   "execution_count": 73,
   "metadata": {},
   "outputs": [
    {
     "name": "stdout",
     "output_type": "stream",
     "text": [
      "(1030, 9)\n"
     ]
    },
    {
     "data": {
      "text/html": [
       "<div>\n",
       "<style scoped>\n",
       "    .dataframe tbody tr th:only-of-type {\n",
       "        vertical-align: middle;\n",
       "    }\n",
       "\n",
       "    .dataframe tbody tr th {\n",
       "        vertical-align: top;\n",
       "    }\n",
       "\n",
       "    .dataframe thead th {\n",
       "        text-align: right;\n",
       "    }\n",
       "</style>\n",
       "<table border=\"1\" class=\"dataframe\">\n",
       "  <thead>\n",
       "    <tr style=\"text-align: right;\">\n",
       "      <th></th>\n",
       "      <th>cement</th>\n",
       "      <th>slag</th>\n",
       "      <th>ash</th>\n",
       "      <th>water</th>\n",
       "      <th>superplastic</th>\n",
       "      <th>coarseagg</th>\n",
       "      <th>fineagg</th>\n",
       "      <th>age</th>\n",
       "      <th>strength</th>\n",
       "    </tr>\n",
       "  </thead>\n",
       "  <tbody>\n",
       "    <tr>\n",
       "      <th>0</th>\n",
       "      <td>0.089726</td>\n",
       "      <td>0.589872</td>\n",
       "      <td>0.000000</td>\n",
       "      <td>0.652556</td>\n",
       "      <td>0.000000</td>\n",
       "      <td>0.496512</td>\n",
       "      <td>0.387607</td>\n",
       "      <td>0.074176</td>\n",
       "      <td>29.89</td>\n",
       "    </tr>\n",
       "    <tr>\n",
       "      <th>1</th>\n",
       "      <td>0.152740</td>\n",
       "      <td>0.117418</td>\n",
       "      <td>0.621189</td>\n",
       "      <td>0.291534</td>\n",
       "      <td>0.335404</td>\n",
       "      <td>0.813372</td>\n",
       "      <td>0.507275</td>\n",
       "      <td>0.035714</td>\n",
       "      <td>23.51</td>\n",
       "    </tr>\n",
       "    <tr>\n",
       "      <th>2</th>\n",
       "      <td>0.337900</td>\n",
       "      <td>0.000000</td>\n",
       "      <td>0.478261</td>\n",
       "      <td>0.523962</td>\n",
       "      <td>0.170807</td>\n",
       "      <td>0.453198</td>\n",
       "      <td>0.670346</td>\n",
       "      <td>0.074176</td>\n",
       "      <td>29.22</td>\n",
       "    </tr>\n",
       "    <tr>\n",
       "      <th>3</th>\n",
       "      <td>0.374429</td>\n",
       "      <td>0.317195</td>\n",
       "      <td>0.000000</td>\n",
       "      <td>0.848243</td>\n",
       "      <td>0.000000</td>\n",
       "      <td>0.380814</td>\n",
       "      <td>0.190667</td>\n",
       "      <td>0.074176</td>\n",
       "      <td>45.85</td>\n",
       "    </tr>\n",
       "    <tr>\n",
       "      <th>4</th>\n",
       "      <td>0.120548</td>\n",
       "      <td>0.510295</td>\n",
       "      <td>0.000000</td>\n",
       "      <td>0.571086</td>\n",
       "      <td>0.282609</td>\n",
       "      <td>0.716279</td>\n",
       "      <td>0.257652</td>\n",
       "      <td>0.074176</td>\n",
       "      <td>18.29</td>\n",
       "    </tr>\n",
       "    <tr>\n",
       "      <th>...</th>\n",
       "      <td>...</td>\n",
       "      <td>...</td>\n",
       "      <td>...</td>\n",
       "      <td>...</td>\n",
       "      <td>...</td>\n",
       "      <td>...</td>\n",
       "      <td>...</td>\n",
       "      <td>...</td>\n",
       "      <td>...</td>\n",
       "    </tr>\n",
       "    <tr>\n",
       "      <th>1025</th>\n",
       "      <td>0.075342</td>\n",
       "      <td>0.000000</td>\n",
       "      <td>0.829585</td>\n",
       "      <td>0.464856</td>\n",
       "      <td>0.310559</td>\n",
       "      <td>0.465116</td>\n",
       "      <td>0.529353</td>\n",
       "      <td>0.074176</td>\n",
       "      <td>13.29</td>\n",
       "    </tr>\n",
       "    <tr>\n",
       "      <th>1026</th>\n",
       "      <td>0.980137</td>\n",
       "      <td>0.000000</td>\n",
       "      <td>0.000000</td>\n",
       "      <td>0.159744</td>\n",
       "      <td>0.875776</td>\n",
       "      <td>0.148547</td>\n",
       "      <td>0.751882</td>\n",
       "      <td>0.005495</td>\n",
       "      <td>41.30</td>\n",
       "    </tr>\n",
       "    <tr>\n",
       "      <th>1027</th>\n",
       "      <td>0.398174</td>\n",
       "      <td>0.322760</td>\n",
       "      <td>0.451274</td>\n",
       "      <td>0.461661</td>\n",
       "      <td>0.276398</td>\n",
       "      <td>0.200872</td>\n",
       "      <td>0.437280</td>\n",
       "      <td>0.074176</td>\n",
       "      <td>44.28</td>\n",
       "    </tr>\n",
       "    <tr>\n",
       "      <th>1028</th>\n",
       "      <td>0.547945</td>\n",
       "      <td>0.105732</td>\n",
       "      <td>0.000000</td>\n",
       "      <td>0.848243</td>\n",
       "      <td>0.000000</td>\n",
       "      <td>0.380814</td>\n",
       "      <td>0.190667</td>\n",
       "      <td>0.739011</td>\n",
       "      <td>55.06</td>\n",
       "    </tr>\n",
       "    <tr>\n",
       "      <th>1029</th>\n",
       "      <td>1.000000</td>\n",
       "      <td>0.000000</td>\n",
       "      <td>0.000000</td>\n",
       "      <td>0.408946</td>\n",
       "      <td>0.000000</td>\n",
       "      <td>0.941860</td>\n",
       "      <td>0.047667</td>\n",
       "      <td>0.016484</td>\n",
       "      <td>52.61</td>\n",
       "    </tr>\n",
       "  </tbody>\n",
       "</table>\n",
       "<p>1030 rows × 9 columns</p>\n",
       "</div>"
      ],
      "text/plain": [
       "        cement      slag       ash     water  superplastic  coarseagg  \\\n",
       "0     0.089726  0.589872  0.000000  0.652556      0.000000   0.496512   \n",
       "1     0.152740  0.117418  0.621189  0.291534      0.335404   0.813372   \n",
       "2     0.337900  0.000000  0.478261  0.523962      0.170807   0.453198   \n",
       "3     0.374429  0.317195  0.000000  0.848243      0.000000   0.380814   \n",
       "4     0.120548  0.510295  0.000000  0.571086      0.282609   0.716279   \n",
       "...        ...       ...       ...       ...           ...        ...   \n",
       "1025  0.075342  0.000000  0.829585  0.464856      0.310559   0.465116   \n",
       "1026  0.980137  0.000000  0.000000  0.159744      0.875776   0.148547   \n",
       "1027  0.398174  0.322760  0.451274  0.461661      0.276398   0.200872   \n",
       "1028  0.547945  0.105732  0.000000  0.848243      0.000000   0.380814   \n",
       "1029  1.000000  0.000000  0.000000  0.408946      0.000000   0.941860   \n",
       "\n",
       "       fineagg       age  strength  \n",
       "0     0.387607  0.074176     29.89  \n",
       "1     0.507275  0.035714     23.51  \n",
       "2     0.670346  0.074176     29.22  \n",
       "3     0.190667  0.074176     45.85  \n",
       "4     0.257652  0.074176     18.29  \n",
       "...        ...       ...       ...  \n",
       "1025  0.529353  0.074176     13.29  \n",
       "1026  0.751882  0.005495     41.30  \n",
       "1027  0.437280  0.074176     44.28  \n",
       "1028  0.190667  0.739011     55.06  \n",
       "1029  0.047667  0.016484     52.61  \n",
       "\n",
       "[1030 rows x 9 columns]"
      ]
     },
     "execution_count": 73,
     "metadata": {},
     "output_type": "execute_result"
    }
   ],
   "source": [
    "data = pd.read_csv(\"concrete_clean.csv\")\n",
    "print(data.shape)\n",
    "\n",
    "X = data.drop('strength', axis=1).values  # Características\n",
    "Y = data['strength'].values  # Clase\n",
    "\n",
    "data"
   ]
  },
  {
   "cell_type": "code",
   "execution_count": null,
   "metadata": {},
   "outputs": [],
   "source": []
  },
  {
   "cell_type": "code",
   "execution_count": 74,
   "metadata": {},
   "outputs": [
    {
     "name": "stdout",
     "output_type": "stream",
     "text": [
      "Mejores hiperparámetros: {'rf__max_depth': None, 'rf__min_samples_split': 2, 'rf__n_estimators': 200}\n",
      "Mejor R² en validación: 0.898389660841568\n",
      "R² en el conjunto de prueba: 0.9118950313614542\n"
     ]
    }
   ],
   "source": [
    "# Separar características (X) y variable objetivo (y)\n",
    "X = data.drop(\"strength\", axis=1)\n",
    "y = data[\"strength\"]\n",
    "\n",
    "# División de datos en entrenamiento y prueba\n",
    "X_train, X_test, y_train, y_test = train_test_split(X, y, test_size=0.2, random_state=42)\n",
    "\n",
    "# Crear un pipeline que incluya escalado de datos y el modelo\n",
    "pipeline = Pipeline([\n",
    "    (\"scaler\", StandardScaler()),\n",
    "    (\"rf\", RandomForestRegressor(random_state=42))\n",
    "])\n",
    "\n",
    "# Definir la rejilla de hiperparámetros para optimizar el RandomForest\n",
    "param_grid = {\n",
    "    \"rf__n_estimators\": [100, 200, 300],\n",
    "    \"rf__max_depth\": [None, 10, 20, 30],\n",
    "    \"rf__min_samples_split\": [2, 5, 10]\n",
    "}\n",
    "\n",
    "# Configurar GridSearchCV con 5-fold cross validation y usando R² como métrica\n",
    "grid_search = GridSearchCV(pipeline, param_grid, cv=5, scoring=\"r2\", n_jobs=-1)\n",
    "grid_search.fit(X_train, y_train)\n",
    "\n",
    "# Mostrar los mejores hiperparámetros y el mejor R² obtenido en validación\n",
    "print(\"Mejores hiperparámetros:\", grid_search.best_params_)\n",
    "print(\"Mejor R² en validación:\", grid_search.best_score_)\n",
    "\n",
    "# Evaluación final en el conjunto de prueba\n",
    "best_model = grid_search.best_estimator_\n",
    "y_pred = best_model.predict(X_test)\n",
    "r2_rf = r2_score(y_test, y_pred)\n",
    "print(\"R² en el conjunto de prueba:\", r2_rf)\n"
   ]
  },
  {
   "cell_type": "code",
   "execution_count": 75,
   "metadata": {},
   "outputs": [
    {
     "name": "stdout",
     "output_type": "stream",
     "text": [
      "Mejores hiperparámetros: {'gbr__learning_rate': 0.2, 'gbr__max_depth': 3, 'gbr__n_estimators': 300, 'gbr__subsample': 1.0}\n",
      "Mejor R² en validación: 0.9270993611585144\n",
      "R² en el conjunto de prueba: 0.9248551160008766\n"
     ]
    }
   ],
   "source": [
    "# Supongamos que 'df' es tu DataFrame y la variable objetivo es 'strength'\n",
    "X = data.drop(\"strength\", axis=1)\n",
    "y = data[\"strength\"]\n",
    "\n",
    "# División de datos en entrenamiento y prueba\n",
    "X_train, X_test, y_train, y_test = train_test_split(X, y, test_size=0.2, random_state=42)\n",
    "\n",
    "# Pipeline con escalado (aunque para modelos basados en árboles no es estrictamente necesario,\n",
    "# a veces ayuda en la optimización de hiperparámetros)\n",
    "pipeline = Pipeline([\n",
    "    (\"scaler\", StandardScaler()),\n",
    "    (\"gbr\", GradientBoostingRegressor(random_state=42))\n",
    "])\n",
    "\n",
    "# Definición de la rejilla de hiperparámetros para optimizar el modelo\n",
    "param_grid = {\n",
    "    \"gbr__n_estimators\": [100, 200, 300],\n",
    "    \"gbr__learning_rate\": [0.01, 0.1, 0.2],\n",
    "    \"gbr__max_depth\": [3, 5, 7],\n",
    "    \"gbr__subsample\": [0.7, 0.8, 1.0]\n",
    "}\n",
    "\n",
    "# Configurar GridSearchCV con validación cruzada de 5 folds usando R² como métrica\n",
    "grid_search = GridSearchCV(pipeline, param_grid, cv=5, scoring=\"r2\", n_jobs=-1)\n",
    "grid_search.fit(X_train, y_train)\n",
    "\n",
    "# Mostrar los mejores hiperparámetros y el mejor R² en validación\n",
    "print(\"Mejores hiperparámetros:\", grid_search.best_params_)\n",
    "print(\"Mejor R² en validación:\", grid_search.best_score_)\n",
    "\n",
    "# Evaluación final en el conjunto de prueba\n",
    "best_model = grid_search.best_estimator_\n",
    "y_pred = best_model.predict(X_test)\n",
    "r2_gbr = r2_score(y_test, y_pred)\n",
    "print(\"R² en el conjunto de prueba:\", r2_gbr)\n"
   ]
  },
  {
   "cell_type": "code",
   "execution_count": 76,
   "metadata": {},
   "outputs": [
    {
     "name": "stdout",
     "output_type": "stream",
     "text": [
      "Mejores hiperparámetros: {'etr__max_depth': 20, 'etr__min_samples_split': 2, 'etr__n_estimators': 100}\n",
      "Mejor R² en validación: 0.9155273709192336\n",
      "R² en el conjunto de prueba: 0.9078170949043322\n"
     ]
    }
   ],
   "source": [
    "# Supongamos que 'df' es tu DataFrame y la variable objetivo es 'strength'\n",
    "X = data.drop(\"strength\", axis=1)\n",
    "y = data[\"strength\"]\n",
    "\n",
    "# División de datos en entrenamiento y prueba\n",
    "X_train, X_test, y_train, y_test = train_test_split(X, y, test_size=0.2, random_state=42)\n",
    "\n",
    "# Crear un pipeline que incluya el modelo ExtraTreesRegressor\n",
    "pipeline = Pipeline([\n",
    "    (\"etr\", ExtraTreesRegressor(random_state=42))\n",
    "])\n",
    "\n",
    "# Definir la rejilla de hiperparámetros a optimizar\n",
    "param_grid = {\n",
    "    \"etr__n_estimators\": [100, 200, 300],\n",
    "    \"etr__max_depth\": [None, 10, 20, 30],\n",
    "    \"etr__min_samples_split\": [2, 5, 10]\n",
    "}\n",
    "\n",
    "# Configurar GridSearchCV con validación cruzada de 5 folds usando R² como métrica\n",
    "grid_search = GridSearchCV(pipeline, param_grid, cv=5, scoring=\"r2\", n_jobs=-1)\n",
    "grid_search.fit(X_train, y_train)\n",
    "\n",
    "# Mostrar los mejores hiperparámetros y el mejor R² obtenido en validación\n",
    "print(\"Mejores hiperparámetros:\", grid_search.best_params_)\n",
    "print(\"Mejor R² en validación:\", grid_search.best_score_)\n",
    "\n",
    "# Evaluación final en el conjunto de prueba\n",
    "best_model = grid_search.best_estimator_\n",
    "y_pred = best_model.predict(X_test)\n",
    "r2_etr = r2_score(y_test, y_pred)\n",
    "print(\"R² en el conjunto de prueba:\", r2_etr)\n"
   ]
  },
  {
   "cell_type": "code",
   "execution_count": 84,
   "metadata": {},
   "outputs": [
    {
     "name": "stderr",
     "output_type": "stream",
     "text": [
      "C:\\Users\\ardil\\AppData\\Local\\Temp\\ipykernel_5840\\607604317.py:8: FutureWarning: \n",
      "\n",
      "Passing `palette` without assigning `hue` is deprecated and will be removed in v0.14.0. Assign the `x` variable to `hue` and set `legend=False` for the same effect.\n",
      "\n",
      "  sns.barplot(x=\"Modelo\", y=\"R2\", data=df_r2, palette=\"viridis\")\n"
     ]
    },
    {
     "data": {
      "image/png": "[encoded data removed]",
      "text/plain": [
       "<Figure size 640x480 with 1 Axes>"
      ]
     },
     "metadata": {},
     "output_type": "display_data"
    }
   ],
   "source": [
    "df_r2 = pd.DataFrame({\n",
    "    \"Modelo\": [\"RF\", \"GBR\", \"ETR\"],\n",
    "    \"R2\": [r2_rf, r2_gbr, r2_etr]\n",
    "})\n",
    "\n",
    "\n",
    "# Crear el gráfico de barras\n",
    "sns.barplot(x=\"Modelo\", y=\"R2\", data=df_r2, palette=\"viridis\")\n",
    "\n",
    "# Personalizar títulos y etiquetas\n",
    "plt.title(\"Comparación de R² por Modelo\", fontsize=18, weight='bold', pad=15)\n",
    "plt.xlabel(\"Modelo\", fontsize=14)\n",
    "plt.ylabel(\"R²\", fontsize=14)\n",
    "\n",
    "# Ajustar la visualización\n",
    "plt.xticks(rotation=45, ha='right', fontsize=12)\n",
    "\n",
    "# Hacer el eje Y más delgado\n",
    "plt.gca().spines['left'].set_linewidth(0.5)  # Ajusta el grosor del eje Y\n",
    "\n",
    "plt.tight_layout()\n",
    "\n",
    "# Mostrar el gráfico\n",
    "plt.show()"
   ]
  },
  {
   "cell_type": "markdown",
   "metadata": {},
   "source": [
    "Un valor de R² de 0.91 en los modelos RandomForestRegressor, GradientBoostingRegressor y ExtraTreesRegressor indica que cada uno de estos modelos explica el 91% de la variabilidad de la variable dependiente en los datos de entrenamiento. Este es un resultado notable, ya que valores de R² cercanos a 1 reflejan un ajuste excelente del modelo a los datos. Sin embargo, es esencial considerar que R² por sí solo no garantiza la calidad del modelo. Es recomendable evaluar otras métricas de desempeño y realizar validaciones cruzadas para asegurar que el modelo generalice bien a datos no vistos y no esté sobreajustado. "
   ]
  },
  {
   "cell_type": "code",
   "execution_count": null,
   "metadata": {},
   "outputs": [
    {
     "name": "stdout",
     "output_type": "stream",
     "text": [
      "RF - Error cuadrático medio negativo promedio: 25.1341\n",
      "GBR - Error cuadrático medio negativo promedio: 27.0960\n",
      "ETR - Error cuadrático medio negativo promedio: 22.9029\n"
     ]
    }
   ],
   "source": [
    "# Inicializar los modelos\n",
    "models = {\n",
    "    'RF': RandomForestRegressor(n_estimators=100, random_state=42),\n",
    "    'GBR': GradientBoostingRegressor(n_estimators=100, random_state=42),\n",
    "    'ETR': ExtraTreesRegressor(n_estimators=100, random_state=42)\n",
    "}\n",
    "\n",
    "# Evaluar cada modelo utilizando validación cruzada\n",
    "for name, model in models.items():\n",
    "    scores = cross_val_score(model, X, Y, cv=5, scoring='neg_mean_squared_error')\n",
    "    mean_score = np.mean(scores)\n",
    "    print(f'{name} - Error cuadrático medio negativo promedio: {-mean_score:.4f}')"
   ]
  },
  {
   "cell_type": "code",
   "execution_count": 91,
   "metadata": {},
   "outputs": [
    {
     "name": "stderr",
     "output_type": "stream",
     "text": [
      "C:\\Users\\ardil\\AppData\\Local\\Temp\\ipykernel_5840\\111320131.py:7: FutureWarning: \n",
      "\n",
      "Passing `palette` without assigning `hue` is deprecated and will be removed in v0.14.0. Assign the `x` variable to `hue` and set `legend=False` for the same effect.\n",
      "\n",
      "  sns.barplot(x=models, y=ecm_values, palette='viridis')\n"
     ]
    },
    {
     "data": {
      "image/png": "[encoded data removed]",
      "text/plain": [
       "<Figure size 800x600 with 1 Axes>"
      ]
     },
     "metadata": {},
     "output_type": "display_data"
    }
   ],
   "source": [
    "# Datos\n",
    "models = ['RF', 'GBR', 'ETR']\n",
    "ecm_values = [25.1341, 27.0960, 22.9029]\n",
    "\n",
    "# Crear el gráfico\n",
    "plt.figure(figsize=(8, 6))\n",
    "sns.barplot(x=models, y=ecm_values, palette='viridis')\n",
    "\n",
    "# Títulos y etiquetas\n",
    "plt.title(\"Error cuadrático medio negativo promedio\", fontsize=18, weight='bold', pad=15)\n",
    "plt.xlabel('Modelos', fontsize=12)\n",
    "plt.ylabel('ECM Promedio', fontsize=12)\n",
    "\n",
    "# Mostrar la gráfica\n",
    "plt.show()\n"
   ]
  },
  {
   "cell_type": "markdown",
   "metadata": {},
   "source": [
    "Un R² de 0.92 es un valor bastante alto, lo que sugiere que los modelos explican el 92% de la variabilidad de la variable dependiente.\n",
    "\n",
    "Sin embargo, el ECM proporciona una medida más directa de la precisión de las predicciones. En este caso, el ExtraTreesRegressor (ETR) tiene el ECM más bajo (22.9029), seguido por el RandomForestRegressor (RF) (25.1341) y el GradientBoostingRegressor (GBR) (27.0960).\n",
    "\n",
    "Esto indica que, aunque los tres modelos tienen un R² alto, el ETR es el que realiza las predicciones más precisas en promedio."
   ]
  }
 ],
 "metadata": {
  "kernelspec": {
   "display_name": "Python 3",
   "language": "python",
   "name": "python3"
  },
  "language_info": {
   "name": "python",
   "version": "3.11.5"
  }
 },
 "nbformat": 4,
 "nbformat_minor": 2
}
